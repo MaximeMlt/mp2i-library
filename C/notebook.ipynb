{
 "cells": [
  {
   "cell_type": "code",
   "execution_count": 8,
   "id": "dc0a39f9-2319-418a-b82b-09647cd71513",
   "metadata": {},
   "outputs": [
    {
     "data": {
      "text/plain": [
       "2"
      ]
     },
     "execution_count": 8,
     "metadata": {},
     "output_type": "execute_result"
    }
   ],
   "source": [
    "int tab[10];\n",
    "tab[1] = 2"
   ]
  },
  {
   "cell_type": "code",
   "execution_count": 11,
   "id": "1a0d762e-18b1-4cec-b4fc-2084274b90aa",
   "metadata": {},
   "outputs": [],
   "source": [
    "int* p = &tab[1]"
   ]
  },
  {
   "cell_type": "code",
   "execution_count": 12,
   "id": "76185e20-84a0-4f4e-aa14-1a792d0ac2cc",
   "metadata": {},
   "outputs": [
    {
     "data": {
      "text/plain": [
       "2"
      ]
     },
     "execution_count": 12,
     "metadata": {},
     "output_type": "execute_result"
    }
   ],
   "source": [
    "*p"
   ]
  },
  {
   "cell_type": "code",
   "execution_count": 19,
   "id": "25d05c9a-aca8-4c95-8193-8d7af939d6b6",
   "metadata": {},
   "outputs": [],
   "source": [
    "void swap(int* tab, int i, int j){\n",
    "    int tmp = tab[i];\n",
    "    tab[i] = tab[j];\n",
    "    tab[j] = tmp;\n",
    "}"
   ]
  },
  {
   "cell_type": "code",
   "execution_count": 21,
   "id": "4ed1e49f-096b-405f-9c1d-6723a2514c9a",
   "metadata": {},
   "outputs": [],
   "source": [
    "int t[2]"
   ]
  },
  {
   "cell_type": "code",
   "execution_count": 22,
   "id": "49b9fe77-1521-49e7-a348-b5cff22c033e",
   "metadata": {},
   "outputs": [
    {
     "data": {
      "text/plain": [
       "4"
      ]
     },
     "execution_count": 22,
     "metadata": {},
     "output_type": "execute_result"
    }
   ],
   "source": [
    "t[1] = 3;\n",
    "t[0] = 4"
   ]
  },
  {
   "cell_type": "code",
   "execution_count": 23,
   "id": "21204542-79aa-4b1c-aa78-da1bafe226a9",
   "metadata": {},
   "outputs": [
    {
     "data": {
      "text/plain": [
       "{ 4, 3 }"
      ]
     },
     "execution_count": 23,
     "metadata": {},
     "output_type": "execute_result"
    }
   ],
   "source": [
    "t"
   ]
  },
  {
   "cell_type": "code",
   "execution_count": 24,
   "id": "7bd23ce6-a433-4dc7-a42c-19a403ac9fb9",
   "metadata": {},
   "outputs": [],
   "source": [
    "swap(t, 0, 1)"
   ]
  },
  {
   "cell_type": "code",
   "execution_count": 25,
   "id": "e81254b5-18d8-4126-83be-510811eb8cd8",
   "metadata": {},
   "outputs": [
    {
     "data": {
      "text/plain": [
       "{ 3, 4 }"
      ]
     },
     "execution_count": 25,
     "metadata": {},
     "output_type": "execute_result"
    }
   ],
   "source": [
    "t"
   ]
  },
  {
   "cell_type": "code",
   "execution_count": 28,
   "id": "50c34a2f-fd66-4d44-b97d-b2a8ca9f1b74",
   "metadata": {},
   "outputs": [],
   "source": [
    "int taille = sizeof(t)/sizeof(t[0]);"
   ]
  },
  {
   "cell_type": "code",
   "execution_count": 29,
   "id": "d2c8a41b-45d1-44b1-a10a-159e7f3ddad5",
   "metadata": {},
   "outputs": [
    {
     "data": {
      "text/plain": [
       "2"
      ]
     },
     "execution_count": 29,
     "metadata": {},
     "output_type": "execute_result"
    }
   ],
   "source": [
    "taille"
   ]
  },
  {
   "cell_type": "code",
   "execution_count": 43,
   "id": "1bb4c9ba-4853-4e9d-8bba-cfcda6b0726a",
   "metadata": {},
   "outputs": [],
   "source": [
    "int aux(int* t, int e, int i, int j){\n",
    "    if (t[j] < t[i]) return 1;\n",
    "    else {\n",
    "        int m = ((i + j) / 2);\n",
    "        if (t[m]==t[e]) return 0;\n",
    "        else if (t[m]>t[e]) aux(t, e, m+1, j);\n",
    "        else aux(t, e, i, m-1);\n",
    "        }\n",
    "    return 1;\n",
    "        \n",
    "    }"
   ]
  },
  {
   "cell_type": "code",
   "execution_count": 44,
   "id": "f1d05b19-ade4-41bf-8a18-9ec37b950e4e",
   "metadata": {},
   "outputs": [],
   "source": [
    "bool dichotomie(int* t, int e){\n",
    "    if (aux(t, e, 0,(sizeof(t)/sizeof(int))) == 0 ) return true;\n",
    "    else return false;\n",
    "    \n",
    "}"
   ]
  },
  {
   "cell_type": "code",
   "execution_count": 46,
   "id": "3e44ecfe-aca1-4638-8913-e83b8b7ba7c3",
   "metadata": {},
   "outputs": [
    {
     "data": {
      "text/plain": [
       "false"
      ]
     },
     "execution_count": 46,
     "metadata": {},
     "output_type": "execute_result"
    }
   ],
   "source": [
    "int tab[]={1,2,3,4,5,6,7,8,9};\n",
    "dichotomie(tab, 2)"
   ]
  },
  {
   "cell_type": "code",
   "execution_count": 49,
   "id": "8fb4df23-8052-4ff6-a48a-0a1c3ee9cdb7",
   "metadata": {},
   "outputs": [],
   "source": [
    "void swap(int* tab, int i, int j){\n",
    "    int tmp = tab[i];\n",
    "    tab[i] = tab[j];\n",
    "    tab[j] = tmp;\n",
    "}"
   ]
  },
  {
   "cell_type": "code",
   "execution_count": 50,
   "id": "8b519ea9-3aa2-446f-b89b-2d8054b151a1",
   "metadata": {},
   "outputs": [],
   "source": [
    "int tab[]={1,2,3,4,5,6,7,8,9};\n",
    "swap(tab,1,2)"
   ]
  },
  {
   "cell_type": "code",
   "execution_count": 51,
   "id": "a333b133-1fde-4c5a-a67e-5f13d67a88b9",
   "metadata": {},
   "outputs": [
    {
     "data": {
      "text/plain": [
       "{ 1, 3, 2, 4, 5, 6, 7, 8, 9 }"
      ]
     },
     "execution_count": 51,
     "metadata": {},
     "output_type": "execute_result"
    }
   ],
   "source": [
    "tab"
   ]
  },
  {
   "cell_type": "code",
   "execution_count": 71,
   "id": "a0dac413-ad8f-476a-9520-5898424ae91e",
   "metadata": {},
   "outputs": [],
   "source": [
    "void reverse(int* t, int taille){\n",
    "    for(int i = 0; i<((taille/2)); i++){\n",
    "        swap(t, i, (taille-i)-1);\n",
    "    }\n",
    "}"
   ]
  },
  {
   "cell_type": "code",
   "execution_count": 78,
   "id": "7b659898-b8c2-4cb4-baf8-0e8ca599c112",
   "metadata": {},
   "outputs": [],
   "source": [
    "int tab[]={1,2,3,4,5,6,7,8,9,10,11,12,13,14,15,16,17,18,19,20};\n",
    "reverse(tab, 20)"
   ]
  },
  {
   "cell_type": "code",
   "execution_count": 79,
   "id": "5bd64c51-f562-4cba-aaa4-d52ed5788174",
   "metadata": {},
   "outputs": [
    {
     "data": {
      "text/plain": [
       "{ 20, 19, 18, 17, 16, 15, 14, 13, 12, 11, 10, 9, 8, 7, 6, 5, 4, 3, 2, 1 }"
      ]
     },
     "execution_count": 79,
     "metadata": {},
     "output_type": "execute_result"
    }
   ],
   "source": [
    "tab"
   ]
  },
  {
   "cell_type": "code",
   "execution_count": 80,
   "id": "9aadc4f9-6476-47c2-9903-4b1ee68d34f7",
   "metadata": {},
   "outputs": [],
   "source": [
    "bool has(int* t, int e, int taille){\n",
    "    for (int i = 0; i<taille; i++){\n",
    "        if (t[i]==e) return true;\n",
    "        \n",
    "    }\n",
    "    return false;\n",
    "}"
   ]
  },
  {
   "cell_type": "code",
   "execution_count": 82,
   "id": "3a77415f-698c-4f41-af03-fe28c3c29213",
   "metadata": {},
   "outputs": [
    {
     "data": {
      "text/plain": [
       "true"
      ]
     },
     "execution_count": 82,
     "metadata": {},
     "output_type": "execute_result"
    }
   ],
   "source": [
    "has(tab, 126, 20)"
   ]
  },
  {
   "cell_type": "code",
   "execution_count": null,
   "id": "54ef0c93-30f6-448b-a5d5-a0bd5d795575",
   "metadata": {},
   "outputs": [],
   "source": []
  }
 ],
 "metadata": {
  "kernelspec": {
   "display_name": "C++14",
   "language": "C++14",
   "name": "xcpp14"
  },
  "language_info": {
   "codemirror_mode": "text/x-c++src",
   "file_extension": ".cpp",
   "mimetype": "text/x-c++src",
   "name": "c++",
   "version": "14"
  }
 },
 "nbformat": 4,
 "nbformat_minor": 5
}
