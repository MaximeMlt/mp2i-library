{
 "cells": [
  {
   "cell_type": "code",
   "execution_count": 5,
   "id": "ec093243-3d55-4a06-a7db-9a3ce7085376",
   "metadata": {},
   "outputs": [
    {
     "name": "stdout",
     "output_type": "stream",
     "text": [
      "val split : 'a list -> 'a list * 'a list = <fun>\n",
      "val fusion : 'a list -> 'a list -> 'a list = <fun>\n",
      "val tri : 'a list -> 'a list = <fun>\n",
      "val concat : 'a list -> 'a list -> 'a list = <fun>\n",
      "val partition : 'a list -> 'a -> 'a list * 'a list = <fun>\n",
      "val trirapide : 'a list -> 'a list = <fun>\n",
      "val insere : 'a list -> 'a -> 'a list = <fun>\n",
      "val trinsertion : 'a list -> 'a list = <fun>\n"
     ]
    }
   ],
   "source": [
    "#use \"Algo_tri.ml\""
   ]
  },
  {
   "cell_type": "code",
   "execution_count": 6,
   "id": "709b1001-d3cf-436e-86dd-7133a195b05a",
   "metadata": {},
   "outputs": [
    {
     "data": {
      "text/plain": [
       "- : int list = [3; 4; 5; 7; 8; 9]\n"
      ]
     },
     "execution_count": 6,
     "metadata": {},
     "output_type": "execute_result"
    }
   ],
   "source": [
    "tri[3; 7; 9; 4; 5; 8]"
   ]
  },
  {
   "cell_type": "code",
   "execution_count": 7,
   "id": "1c5c6fb9-284a-4cc6-8ed8-23b1a1f70ea8",
   "metadata": {},
   "outputs": [
    {
     "data": {
      "text/plain": [
       "- : int list = [3; 4; 5; 7; 8; 9]\n"
      ]
     },
     "execution_count": 7,
     "metadata": {},
     "output_type": "execute_result"
    }
   ],
   "source": [
    "trirapide [3; 7; 9; 4; 5; 8]"
   ]
  },
  {
   "cell_type": "code",
   "execution_count": 8,
   "id": "780f4d11-ff0f-459d-81be-80bbbf449ed0",
   "metadata": {},
   "outputs": [
    {
     "data": {
      "text/plain": [
       "- : int list =\n",
       "[-28; -2; -2; 1; 1; 1; 1; 2; 2; 2; 2; 3; 3; 3; 3; 4; 4; 21; 23; 34; 223]\n"
      ]
     },
     "execution_count": 8,
     "metadata": {},
     "output_type": "execute_result"
    }
   ],
   "source": [
    "trinsertion  [1;2;3;-2;4;-28;3;2;1;23;21;2;1;3;34;223;4;3;2;1;-2]"
   ]
  },
  {
   "cell_type": "code",
   "execution_count": null,
   "id": "a4e4cf06-1e39-42ec-8681-eaad43c04b0f",
   "metadata": {},
   "outputs": [],
   "source": []
  },
  {
   "cell_type": "code",
   "execution_count": null,
   "id": "56bf497e-e167-420e-9d9b-6a9ee313ed94",
   "metadata": {},
   "outputs": [],
   "source": []
  }
 ],
 "metadata": {
  "kernelspec": {
   "display_name": "OCaml default",
   "language": "OCaml",
   "name": "ocaml-jupyter"
  },
  "language_info": {
   "codemirror_mode": "text/x-ocaml",
   "file_extension": ".ml",
   "mimetype": "text/x-ocaml",
   "name": "OCaml",
   "nbconverter_exporter": null,
   "pygments_lexer": "OCaml",
   "version": "4.08.1"
  }
 },
 "nbformat": 4,
 "nbformat_minor": 5
}
